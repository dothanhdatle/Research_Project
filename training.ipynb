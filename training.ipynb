{
 "cells": [
  {
   "cell_type": "code",
   "execution_count": 1,
   "metadata": {
    "executionInfo": {
     "elapsed": 15070,
     "status": "ok",
     "timestamp": 1737015530642,
     "user": {
      "displayName": "Do Thanh Dat LE",
      "userId": "16412417269827222473"
     },
     "user_tz": -60
    },
    "id": "abWItNsLjK4e"
   },
   "outputs": [],
   "source": [
    "import torch\n",
    "import torch.nn as nn\n",
    "import torch.optim as optim\n",
    "from torch.utils.data import DataLoader\n",
    "from tqdm import tqdm\n",
    "\n",
    "from dataset.dataloader import SHREC22_data\n",
    "from contrastive.moco import MoCo\n",
    "from augmentations.augmentations import augmentations_sequence\n",
    "from encoders.encoders import STGCN_model\n",
    "from classification.classification import SSL_model"
   ]
  },
  {
   "cell_type": "markdown",
   "metadata": {},
   "source": [
    "### Self-supervised learning"
   ]
  },
  {
   "cell_type": "code",
   "execution_count": 2,
   "metadata": {
    "executionInfo": {
     "elapsed": 221,
     "status": "ok",
     "timestamp": 1737019911472,
     "user": {
      "displayName": "Do Thanh Dat LE",
      "userId": "16412417269827222473"
     },
     "user_tz": -60
    },
    "id": "rDedBnX1kVeW"
   },
   "outputs": [],
   "source": [
    "# Hyperparameters\n",
    "train_path = './dataset/training_set/training_set/'\n",
    "test_path = './dataset/training_set/test_set/'\n",
    "batch_size = 64\n",
    "n_epochs = 2000\n",
    "learning_rate = 0.001\n",
    "queue_size = 30000\n",
    "T = 90  # Sequence length\n",
    "device = torch.device('cuda' if torch.cuda.is_available() else 'cpu')"
   ]
  },
  {
   "cell_type": "code",
   "execution_count": 3,
   "metadata": {
    "executionInfo": {
     "elapsed": 5448,
     "status": "ok",
     "timestamp": 1737019918928,
     "user": {
      "displayName": "Do Thanh Dat LE",
      "userId": "16412417269827222473"
     },
     "user_tz": -60
    },
    "id": "pG5JuWXjkYa9"
   },
   "outputs": [],
   "source": [
    "# Load train data\n",
    "trainset = SHREC22_data(train_path, T)\n",
    "train_ssl_size = int(0.9 * len(trainset)) # 90% unlabeled data for self-supervised\n",
    "train_classify_size = len(trainset) - train_ssl_size\n",
    "train_ssl_set, train_classify_set = torch.utils.data.random_split(trainset, [train_ssl_size, train_classify_size], generator=torch.Generator().manual_seed(42))\n",
    "trainloader_ssl = DataLoader(train_ssl_set, batch_size=batch_size, shuffle=True)"
   ]
  },
  {
   "cell_type": "code",
   "execution_count": 27,
   "metadata": {
    "executionInfo": {
     "elapsed": 255,
     "status": "ok",
     "timestamp": 1737019923408,
     "user": {
      "displayName": "Do Thanh Dat LE",
      "userId": "16412417269827222473"
     },
     "user_tz": -60
    },
    "id": "kgd57ycDk_is"
   },
   "outputs": [],
   "source": [
    "graph_args = {\n",
    "    'strategy': 'spatial',\n",
    "    'max_hop': 1,\n",
    "    'dilation': 1\n",
    "}\n",
    "\n",
    "# Data augmentation\n",
    "augmentations = augmentations_sequence()\n",
    "\n",
    "# Load base encoder for MoCo\n",
    "base_encoder = STGCN_model(in_channels=3, hidden_channels=64, hidden_dim=256, out_dim=512, graph_args=graph_args, edge_importance_weighting=True)\n",
    "\n",
    "# Load MoCo Model\n",
    "moco_model = MoCo(base_encoder=base_encoder, dim = 512, K=queue_size, m=0.999, T = 0.07).to(device)"
   ]
  },
  {
   "cell_type": "code",
   "execution_count": 5,
   "metadata": {
    "colab": {
     "base_uri": "https://localhost:8080/"
    },
    "executionInfo": {
     "elapsed": 463057,
     "status": "ok",
     "timestamp": 1737020392618,
     "user": {
      "displayName": "Do Thanh Dat LE",
      "userId": "16412417269827222473"
     },
     "user_tz": -60
    },
    "id": "lsVcTfbbossG",
    "outputId": "cad96520-e699-456d-ad62-c71e2b969aed"
   },
   "outputs": [
    {
     "name": "stderr",
     "output_type": "stream",
     "text": [
      " 10%|█         | 200/2000 [06:48<1:01:57,  2.07s/it]"
     ]
    },
    {
     "name": "stdout",
     "output_type": "stream",
     "text": [
      "Epoch [200/2000], Loss: 6.3057\n"
     ]
    },
    {
     "name": "stderr",
     "output_type": "stream",
     "text": [
      " 20%|██        | 400/2000 [13:42<55:53,  2.10s/it]  "
     ]
    },
    {
     "name": "stdout",
     "output_type": "stream",
     "text": [
      "Epoch [400/2000], Loss: 5.3112\n"
     ]
    },
    {
     "name": "stderr",
     "output_type": "stream",
     "text": [
      " 30%|███       | 600/2000 [20:31<47:33,  2.04s/it]"
     ]
    },
    {
     "name": "stdout",
     "output_type": "stream",
     "text": [
      "Epoch [600/2000], Loss: 4.1634\n"
     ]
    },
    {
     "name": "stderr",
     "output_type": "stream",
     "text": [
      " 40%|████      | 800/2000 [27:17<40:46,  2.04s/it]"
     ]
    },
    {
     "name": "stdout",
     "output_type": "stream",
     "text": [
      "Epoch [800/2000], Loss: 3.7675\n"
     ]
    },
    {
     "name": "stderr",
     "output_type": "stream",
     "text": [
      " 50%|█████     | 1000/2000 [34:04<33:48,  2.03s/it]"
     ]
    },
    {
     "name": "stdout",
     "output_type": "stream",
     "text": [
      "Epoch [1000/2000], Loss: 2.9148\n"
     ]
    },
    {
     "name": "stderr",
     "output_type": "stream",
     "text": [
      " 60%|██████    | 1200/2000 [40:51<27:08,  2.04s/it]"
     ]
    },
    {
     "name": "stdout",
     "output_type": "stream",
     "text": [
      "Epoch [1200/2000], Loss: 2.5031\n"
     ]
    },
    {
     "name": "stderr",
     "output_type": "stream",
     "text": [
      " 70%|███████   | 1400/2000 [47:38<20:28,  2.05s/it]"
     ]
    },
    {
     "name": "stdout",
     "output_type": "stream",
     "text": [
      "Epoch [1400/2000], Loss: 2.0532\n"
     ]
    },
    {
     "name": "stderr",
     "output_type": "stream",
     "text": [
      " 80%|████████  | 1600/2000 [54:25<13:31,  2.03s/it]"
     ]
    },
    {
     "name": "stdout",
     "output_type": "stream",
     "text": [
      "Epoch [1600/2000], Loss: 1.6978\n"
     ]
    },
    {
     "name": "stderr",
     "output_type": "stream",
     "text": [
      " 90%|█████████ | 1800/2000 [1:01:12<06:46,  2.03s/it]"
     ]
    },
    {
     "name": "stdout",
     "output_type": "stream",
     "text": [
      "Epoch [1800/2000], Loss: 1.3908\n"
     ]
    },
    {
     "name": "stderr",
     "output_type": "stream",
     "text": [
      "100%|██████████| 2000/2000 [1:07:59<00:00,  2.04s/it]"
     ]
    },
    {
     "name": "stdout",
     "output_type": "stream",
     "text": [
      "Epoch [2000/2000], Loss: 1.3992\n"
     ]
    },
    {
     "name": "stderr",
     "output_type": "stream",
     "text": [
      "\n"
     ]
    }
   ],
   "source": [
    "optimizer = optim.Adam(moco_model.parameters(), lr=learning_rate)\n",
    "loss_fn = nn.CrossEntropyLoss()\n",
    "\n",
    "# Training\n",
    "moco_model.train()\n",
    "train_loss = []\n",
    "for epoch in tqdm(range(n_epochs)):\n",
    "  total_loss = 0.0\n",
    "  for batch in trainloader_ssl:\n",
    "    seqs = batch['Sequence'].float().to(device)\n",
    "    seqs_aug1 = augmentations(seqs)\n",
    "    seqs_aug2 = augmentations(seqs)\n",
    "\n",
    "    optimizer.zero_grad()\n",
    "    # Forward pass\n",
    "    logits, labels = moco_model(seqs_aug1, seqs_aug2)\n",
    "    loss = loss_fn(logits, labels)\n",
    "\n",
    "    # Backward pass\n",
    "    loss.backward()\n",
    "    optimizer.step()\n",
    "\n",
    "    total_loss += loss.item()\n",
    "  train_loss.append(total_loss/len(trainloader_ssl))\n",
    "  if (epoch+1) % 200 == 0:\n",
    "    print(f\"Epoch [{epoch+1}/{n_epochs}], Loss: {total_loss/len(trainloader_ssl):.4f}\")"
   ]
  },
  {
   "cell_type": "code",
   "execution_count": 6,
   "metadata": {
    "colab": {
     "base_uri": "https://localhost:8080/",
     "height": 450
    },
    "executionInfo": {
     "elapsed": 291,
     "status": "ok",
     "timestamp": 1737020394990,
     "user": {
      "displayName": "Do Thanh Dat LE",
      "userId": "16412417269827222473"
     },
     "user_tz": -60
    },
    "id": "P9bSwk1gS6aH",
    "outputId": "adaf01e9-a634-4f66-d525-7bbc6c534320"
   },
   "outputs": [
    {
     "data": {
      "image/png": "[encoded data removed]",
      "text/plain": [
       "<Figure size 640x480 with 1 Axes>"
      ]
     },
     "metadata": {},
     "output_type": "display_data"
    }
   ],
   "source": [
    "from matplotlib import pyplot as plt\n",
    "plt.figure()\n",
    "plt.plot(train_loss, label='Training loss')\n",
    "plt.title('Training curve for contrastive learning')\n",
    "plt.xlabel('Epoch')\n",
    "plt.ylabel('Loss')\n",
    "plt.legend()\n",
    "plt.show()"
   ]
  },
  {
   "cell_type": "code",
   "execution_count": 7,
   "metadata": {},
   "outputs": [],
   "source": [
    "# Save the query encoder for downstream task\n",
    "torch.save(moco_model.encoder_q.state_dict(), 'encoder_q_90.pth')"
   ]
  },
  {
   "cell_type": "markdown",
   "metadata": {},
   "source": [
    "### Downstream Classification"
   ]
  },
  {
   "cell_type": "code",
   "execution_count": 4,
   "metadata": {},
   "outputs": [
    {
     "name": "stderr",
     "output_type": "stream",
     "text": [
      "C:\\Users\\Asus\\AppData\\Local\\Temp\\ipykernel_9188\\1057116271.py:8: FutureWarning: You are using `torch.load` with `weights_only=False` (the current default value), which uses the default pickle module implicitly. It is possible to construct malicious pickle data which will execute arbitrary code during unpickling (See https://github.com/pytorch/pytorch/blob/main/SECURITY.md#untrusted-models for more details). In a future release, the default value for `weights_only` will be flipped to `True`. This limits the functions that could be executed during unpickling. Arbitrary objects will no longer be allowed to be loaded via this mode unless they are explicitly allowlisted by the user via `torch.serialization.add_safe_globals`. We recommend you start setting `weights_only=True` for any use case where you don't have full control of the loaded file. Please open an issue on GitHub for any issues related to this experimental feature.\n",
      "  q_encoder.load_state_dict(torch.load(\"encoder_q_90.pth\"))\n"
     ]
    },
    {
     "data": {
      "text/plain": [
       "<All keys matched successfully>"
      ]
     },
     "execution_count": 4,
     "metadata": {},
     "output_type": "execute_result"
    }
   ],
   "source": [
    "# load the query encoder\n",
    "graph_args = {\n",
    "    'strategy': 'spatial',\n",
    "    'max_hop': 1,\n",
    "    'dilation': 1\n",
    "}\n",
    "q_encoder = STGCN_model(in_channels=3, hidden_channels=64, hidden_dim=256, out_dim=512, graph_args=graph_args, edge_importance_weighting=True)\n",
    "q_encoder.load_state_dict(torch.load(\"encoder_q_90.pth\"))"
   ]
  },
  {
   "cell_type": "code",
   "execution_count": 5,
   "metadata": {},
   "outputs": [],
   "source": [
    "# classifier\n",
    "trainloader_classify = DataLoader(train_classify_set, batch_size=8, shuffle=True)\n",
    "classifier_model = SSL_model(contrastive_encoder=q_encoder, classifier_dim=512, num_classes=16).to(device)\n",
    "for param in classifier_model.contrastive_encoder.parameters():\n",
    "    param.requires_grad = False\n",
    "\n",
    "loss_fn = nn.CrossEntropyLoss()\n",
    "optimizer = optim.Adam(classifier_model.classifier.parameters(), lr=learning_rate)"
   ]
  },
  {
   "cell_type": "code",
   "execution_count": 6,
   "metadata": {},
   "outputs": [
    {
     "name": "stderr",
     "output_type": "stream",
     "text": [
      " 26%|██▌       | 13/50 [00:00<00:02, 16.47it/s]"
     ]
    },
    {
     "name": "stdout",
     "output_type": "stream",
     "text": [
      "Epoch [10/50], Loss: 1.2809, Accuracy: 0.7759\n"
     ]
    },
    {
     "name": "stderr",
     "output_type": "stream",
     "text": [
      " 46%|████▌     | 23/50 [00:01<00:01, 17.53it/s]"
     ]
    },
    {
     "name": "stdout",
     "output_type": "stream",
     "text": [
      "Epoch [20/50], Loss: 0.8016, Accuracy: 0.8793\n"
     ]
    },
    {
     "name": "stderr",
     "output_type": "stream",
     "text": [
      " 66%|██████▌   | 33/50 [00:02<00:00, 18.21it/s]"
     ]
    },
    {
     "name": "stdout",
     "output_type": "stream",
     "text": [
      "Epoch [30/50], Loss: 0.6026, Accuracy: 0.9310\n"
     ]
    },
    {
     "name": "stderr",
     "output_type": "stream",
     "text": [
      " 86%|████████▌ | 43/50 [00:02<00:00, 18.59it/s]"
     ]
    },
    {
     "name": "stdout",
     "output_type": "stream",
     "text": [
      "Epoch [40/50], Loss: 0.4234, Accuracy: 0.9483\n"
     ]
    },
    {
     "name": "stderr",
     "output_type": "stream",
     "text": [
      "100%|██████████| 50/50 [00:03<00:00, 16.64it/s]"
     ]
    },
    {
     "name": "stdout",
     "output_type": "stream",
     "text": [
      "Epoch [50/50], Loss: 0.3329, Accuracy: 0.9655\n"
     ]
    },
    {
     "name": "stderr",
     "output_type": "stream",
     "text": [
      "\n"
     ]
    }
   ],
   "source": [
    "# Training Loop\n",
    "train_loss, train_acc = [], []\n",
    "n_epochs = 50\n",
    "for epoch in tqdm(range(n_epochs)):\n",
    "    total_loss = 0.0\n",
    "    correct = 0\n",
    "    total = 0\n",
    "\n",
    "    for batch in trainloader_classify:\n",
    "        seqs = batch['Sequence'].float().to(device)\n",
    "        labels = batch['Label'].to(device)\n",
    "        \n",
    "        optimizer.zero_grad()\n",
    "        # Forward pass\n",
    "        output = classifier_model(seqs)\n",
    "        loss = loss_fn(output, labels)\n",
    "\n",
    "        # Backward pass and optimization\n",
    "        loss.backward()\n",
    "        optimizer.step()\n",
    "\n",
    "        total_loss += loss.item()\n",
    "        _, predicted = torch.max(output, 1)\n",
    "        total += labels.size(0)\n",
    "        correct += (predicted == labels).sum().item()\n",
    "\n",
    "    train_loss.append(total_loss / len(trainloader_classify))\n",
    "    train_acc.append(correct / total)\n",
    "  \n",
    "    if (epoch + 1) % 10 == 0:\n",
    "        print(f\"Epoch [{epoch+1}/{n_epochs}], Loss: {train_loss[-1]:.4f}, Accuracy: {train_acc[-1]:.4f}\")\n"
   ]
  }
 ],
 "metadata": {
  "accelerator": "GPU",
  "colab": {
   "gpuType": "T4",
   "provenance": []
  },
  "kernelspec": {
   "display_name": "Python 3",
   "name": "python3"
  },
  "language_info": {
   "codemirror_mode": {
    "name": "ipython",
    "version": 3
   },
   "file_extension": ".py",
   "mimetype": "text/x-python",
   "name": "python",
   "nbconvert_exporter": "python",
   "pygments_lexer": "ipython3",
   "version": "3.10.6"
  }
 },
 "nbformat": 4,
 "nbformat_minor": 0
}

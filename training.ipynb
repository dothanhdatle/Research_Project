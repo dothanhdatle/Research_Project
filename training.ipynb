{
 "cells": [
  {
   "cell_type": "code",
   "execution_count": 1,
   "metadata": {
    "executionInfo": {
     "elapsed": 15070,
     "status": "ok",
     "timestamp": 1737015530642,
     "user": {
      "displayName": "Do Thanh Dat LE",
      "userId": "16412417269827222473"
     },
     "user_tz": -60
    },
    "id": "abWItNsLjK4e"
   },
   "outputs": [],
   "source": [
    "import numpy as np\n",
    "import random\n",
    "import matplotlib.pyplot as plt\n",
    "import torch\n",
    "import torch.nn as nn\n",
    "import torch.optim as optim\n",
    "from torch.utils.data import DataLoader, Subset\n",
    "from tqdm import tqdm\n",
    "from sklearn.model_selection import train_test_split\n",
    "\n",
    "from dataset.dataloader import SHREC22_data\n",
    "from contrastive.moco import MoCo\n",
    "from augmentations.augmentations import augmentations_sequence1, augmentations_sequence2\n",
    "from encoders.encoders import STGCN_model\n",
    "#from classification.classification import SSL_model"
   ]
  },
  {
   "cell_type": "code",
   "execution_count": 2,
   "metadata": {},
   "outputs": [],
   "source": [
    "# Reproducibility\n",
    "seed = 42\n",
    "random.seed(seed)                \n",
    "np.random.seed(seed)             \n",
    "torch.manual_seed(seed)         \n",
    "torch.cuda.manual_seed(seed)     \n",
    "torch.cuda.manual_seed_all(seed) \n",
    "torch.backends.cudnn.deterministic = True\n",
    "torch.backends.cudnn.benchmark = False"
   ]
  },
  {
   "cell_type": "code",
   "execution_count": 3,
   "metadata": {},
   "outputs": [
    {
     "data": {
      "text/plain": [
       "device(type='cuda')"
      ]
     },
     "execution_count": 3,
     "metadata": {},
     "output_type": "execute_result"
    }
   ],
   "source": [
    "device = torch.device('cuda' if torch.cuda.is_available() else 'cpu')\n",
    "device"
   ]
  },
  {
   "cell_type": "code",
   "execution_count": 4,
   "metadata": {},
   "outputs": [
    {
     "data": {
      "text/plain": [
       "576"
      ]
     },
     "execution_count": 4,
     "metadata": {},
     "output_type": "execute_result"
    }
   ],
   "source": [
    "# load datasets\n",
    "train_path = './dataset/training_set/training_set/'\n",
    "test_path = './dataset/training_set/test_set/'\n",
    "\n",
    "T = 90  # Sequence length for loading\n",
    "trainset = SHREC22_data(train_path, T)\n",
    "len(trainset)"
   ]
  },
  {
   "cell_type": "code",
   "execution_count": 5,
   "metadata": {},
   "outputs": [
    {
     "name": "stdout",
     "output_type": "stream",
     "text": [
      "Train set size: 460\n",
      "Validation set size: 116\n"
     ]
    }
   ],
   "source": [
    "# Extract labels and indices\n",
    "labels = [data['Label'] for data in trainset]\n",
    "indices = list(range(len(trainset)))\n",
    "\n",
    "# train validation split\n",
    "train_indices, val_indices = train_test_split(\n",
    "    indices, \n",
    "    test_size=0.2,    \n",
    "    stratify=labels,  \n",
    "    random_state=seed   \n",
    ")\n",
    "\n",
    "# Create subsets for training and validation\n",
    "train_set = Subset(trainset, train_indices)\n",
    "val_set = Subset(trainset, val_indices)\n",
    "\n",
    "print('Train set size:',len(train_set))\n",
    "print('Validation set size:',len(val_set))\n"
   ]
  },
  {
   "cell_type": "markdown",
   "metadata": {},
   "source": [
    "### Self-supervised learning"
   ]
  },
  {
   "cell_type": "code",
   "execution_count": 6,
   "metadata": {
    "executionInfo": {
     "elapsed": 221,
     "status": "ok",
     "timestamp": 1737019911472,
     "user": {
      "displayName": "Do Thanh Dat LE",
      "userId": "16412417269827222473"
     },
     "user_tz": -60
    },
    "id": "rDedBnX1kVeW"
   },
   "outputs": [],
   "source": [
    "# Hyperparameters for self-supervised training\n",
    "batch_size = 64\n",
    "learning_rate = 1e-3\n",
    "queue_size = 256\n",
    "graph_args = {\n",
    "    'strategy': 'spatial',\n",
    "    'max_hop': 1,\n",
    "    'dilation': 1\n",
    "}\n",
    "\n",
    "momentum = 0.999 # momentum\n",
    "temperature = 0.07 # temperature"
   ]
  },
  {
   "cell_type": "code",
   "execution_count": 7,
   "metadata": {
    "executionInfo": {
     "elapsed": 255,
     "status": "ok",
     "timestamp": 1737019923408,
     "user": {
      "displayName": "Do Thanh Dat LE",
      "userId": "16412417269827222473"
     },
     "user_tz": -60
    },
    "id": "kgd57ycDk_is"
   },
   "outputs": [],
   "source": [
    "# Data loader for self-supervised without labels\n",
    "trainloader_ssl = DataLoader(train_set, batch_size=batch_size, shuffle=True)\n",
    "valloader_ssl = DataLoader(val_set, batch_size=batch_size, shuffle=True)\n",
    "# Data augmentation\n",
    "augmentations1 = augmentations_sequence1()\n",
    "#augmentations2 = augmentations_sequence2()\n",
    "\n",
    "# Load base encoder for MoCo\n",
    "base_encoder = STGCN_model(in_channels=3, \n",
    "                           hidden_channels=16, \n",
    "                           hidden_dim=64, out_dim=128, \n",
    "                           graph_args=graph_args, \n",
    "                           edge_importance_weighting=True,\n",
    "                           dropout_rate=0).to(device)\n",
    "\n",
    "# Load MoCo Model\n",
    "moco_model = MoCo(base_encoder=base_encoder, \n",
    "                  dim = 128, \n",
    "                  K=queue_size, \n",
    "                  m=momentum, \n",
    "                  T=temperature,\n",
    "                  mlp=False).to(device)"
   ]
  },
  {
   "cell_type": "code",
   "execution_count": 8,
   "metadata": {},
   "outputs": [
    {
     "name": "stderr",
     "output_type": "stream",
     "text": [
      "  5%|▌         | 100/2000 [01:47<33:45,  1.07s/it]"
     ]
    },
    {
     "name": "stdout",
     "output_type": "stream",
     "text": [
      "Epoch [100/2000]\n",
      "  Train Loss: 4.9941\n",
      "  Val Loss: 4.9407\n"
     ]
    },
    {
     "name": "stderr",
     "output_type": "stream",
     "text": [
      " 10%|█         | 200/2000 [03:35<32:23,  1.08s/it]"
     ]
    },
    {
     "name": "stdout",
     "output_type": "stream",
     "text": [
      "Epoch [200/2000]\n",
      "  Train Loss: 4.6272\n",
      "  Val Loss: 4.5178\n"
     ]
    },
    {
     "name": "stderr",
     "output_type": "stream",
     "text": [
      " 15%|█▌        | 300/2000 [05:22<29:59,  1.06s/it]"
     ]
    },
    {
     "name": "stdout",
     "output_type": "stream",
     "text": [
      "Epoch [300/2000]\n",
      "  Train Loss: 4.0361\n",
      "  Val Loss: 3.8444\n"
     ]
    },
    {
     "name": "stderr",
     "output_type": "stream",
     "text": [
      " 20%|██        | 400/2000 [07:09<29:22,  1.10s/it]"
     ]
    },
    {
     "name": "stdout",
     "output_type": "stream",
     "text": [
      "Epoch [400/2000]\n",
      "  Train Loss: 3.4930\n",
      "  Val Loss: 3.5188\n"
     ]
    },
    {
     "name": "stderr",
     "output_type": "stream",
     "text": [
      " 25%|██▌       | 500/2000 [08:57<26:31,  1.06s/it]"
     ]
    },
    {
     "name": "stdout",
     "output_type": "stream",
     "text": [
      "Epoch [500/2000]\n",
      "  Train Loss: 3.2176\n",
      "  Val Loss: 3.0791\n"
     ]
    },
    {
     "name": "stderr",
     "output_type": "stream",
     "text": [
      " 30%|███       | 600/2000 [10:43<25:20,  1.09s/it]"
     ]
    },
    {
     "name": "stdout",
     "output_type": "stream",
     "text": [
      "Epoch [600/2000]\n",
      "  Train Loss: 2.7483\n",
      "  Val Loss: 3.2366\n"
     ]
    },
    {
     "name": "stderr",
     "output_type": "stream",
     "text": [
      " 35%|███▌      | 700/2000 [12:31<22:51,  1.06s/it]"
     ]
    },
    {
     "name": "stdout",
     "output_type": "stream",
     "text": [
      "Epoch [700/2000]\n",
      "  Train Loss: 2.6999\n",
      "  Val Loss: 2.6378\n"
     ]
    },
    {
     "name": "stderr",
     "output_type": "stream",
     "text": [
      " 40%|████      | 800/2000 [14:17<21:17,  1.06s/it]"
     ]
    },
    {
     "name": "stdout",
     "output_type": "stream",
     "text": [
      "Epoch [800/2000]\n",
      "  Train Loss: 2.7063\n",
      "  Val Loss: 2.7705\n"
     ]
    },
    {
     "name": "stderr",
     "output_type": "stream",
     "text": [
      " 45%|████▌     | 900/2000 [16:06<19:44,  1.08s/it]"
     ]
    },
    {
     "name": "stdout",
     "output_type": "stream",
     "text": [
      "Epoch [900/2000]\n",
      "  Train Loss: 2.3839\n",
      "  Val Loss: 2.6043\n"
     ]
    },
    {
     "name": "stderr",
     "output_type": "stream",
     "text": [
      " 50%|█████     | 1000/2000 [17:52<17:37,  1.06s/it]"
     ]
    },
    {
     "name": "stdout",
     "output_type": "stream",
     "text": [
      "Epoch [1000/2000]\n",
      "  Train Loss: 2.2668\n",
      "  Val Loss: 2.6845\n"
     ]
    },
    {
     "name": "stderr",
     "output_type": "stream",
     "text": [
      " 55%|█████▌    | 1100/2000 [19:39<16:12,  1.08s/it]"
     ]
    },
    {
     "name": "stdout",
     "output_type": "stream",
     "text": [
      "Epoch [1100/2000]\n",
      "  Train Loss: 2.1318\n",
      "  Val Loss: 2.3803\n"
     ]
    },
    {
     "name": "stderr",
     "output_type": "stream",
     "text": [
      " 60%|██████    | 1200/2000 [21:26<14:06,  1.06s/it]"
     ]
    },
    {
     "name": "stdout",
     "output_type": "stream",
     "text": [
      "Epoch [1200/2000]\n",
      "  Train Loss: 2.0718\n",
      "  Val Loss: 1.8260\n"
     ]
    },
    {
     "name": "stderr",
     "output_type": "stream",
     "text": [
      " 65%|██████▌   | 1300/2000 [23:13<12:35,  1.08s/it]"
     ]
    },
    {
     "name": "stdout",
     "output_type": "stream",
     "text": [
      "Epoch [1300/2000]\n",
      "  Train Loss: 2.0948\n",
      "  Val Loss: 2.0177\n"
     ]
    },
    {
     "name": "stderr",
     "output_type": "stream",
     "text": [
      " 70%|███████   | 1400/2000 [25:00<10:28,  1.05s/it]"
     ]
    },
    {
     "name": "stdout",
     "output_type": "stream",
     "text": [
      "Epoch [1400/2000]\n",
      "  Train Loss: 2.3131\n",
      "  Val Loss: 2.2238\n"
     ]
    },
    {
     "name": "stderr",
     "output_type": "stream",
     "text": [
      " 75%|███████▌  | 1500/2000 [26:47<09:06,  1.09s/it]"
     ]
    },
    {
     "name": "stdout",
     "output_type": "stream",
     "text": [
      "Epoch [1500/2000]\n",
      "  Train Loss: 2.1472\n",
      "  Val Loss: 1.5641\n"
     ]
    },
    {
     "name": "stderr",
     "output_type": "stream",
     "text": [
      " 80%|████████  | 1600/2000 [28:35<07:01,  1.05s/it]"
     ]
    },
    {
     "name": "stdout",
     "output_type": "stream",
     "text": [
      "Epoch [1600/2000]\n",
      "  Train Loss: 2.1442\n",
      "  Val Loss: 1.7802\n"
     ]
    },
    {
     "name": "stderr",
     "output_type": "stream",
     "text": [
      " 85%|████████▌ | 1700/2000 [30:21<05:24,  1.08s/it]"
     ]
    },
    {
     "name": "stdout",
     "output_type": "stream",
     "text": [
      "Epoch [1700/2000]\n",
      "  Train Loss: 2.1173\n",
      "  Val Loss: 1.7316\n"
     ]
    },
    {
     "name": "stderr",
     "output_type": "stream",
     "text": [
      " 90%|█████████ | 1800/2000 [32:09<03:35,  1.08s/it]"
     ]
    },
    {
     "name": "stdout",
     "output_type": "stream",
     "text": [
      "Epoch [1800/2000]\n",
      "  Train Loss: 1.7790\n",
      "  Val Loss: 2.0502\n"
     ]
    },
    {
     "name": "stderr",
     "output_type": "stream",
     "text": [
      " 95%|█████████▌| 1900/2000 [33:55<01:45,  1.05s/it]"
     ]
    },
    {
     "name": "stdout",
     "output_type": "stream",
     "text": [
      "Epoch [1900/2000]\n",
      "  Train Loss: 1.6488\n",
      "  Val Loss: 1.8189\n"
     ]
    },
    {
     "name": "stderr",
     "output_type": "stream",
     "text": [
      "100%|██████████| 2000/2000 [35:43<00:00,  1.07s/it]"
     ]
    },
    {
     "name": "stdout",
     "output_type": "stream",
     "text": [
      "Epoch [2000/2000]\n",
      "  Train Loss: 1.6167\n",
      "  Val Loss: 1.7634\n"
     ]
    },
    {
     "name": "stderr",
     "output_type": "stream",
     "text": [
      "\n"
     ]
    }
   ],
   "source": [
    "n_epochs = 2000\n",
    "\n",
    "### Self-supervised training with InfoNCE loss\n",
    "optimizer = optim.Adam(moco_model.parameters(), lr=learning_rate)\n",
    "loss_fn = nn.CrossEntropyLoss()\n",
    "\n",
    "train_loss, val_loss = [], []\n",
    "for epoch in tqdm(range(n_epochs)):\n",
    "    # Training\n",
    "    moco_model.train()\n",
    "    total_train_loss = 0.0\n",
    "    for batch in trainloader_ssl:\n",
    "        seqs = batch['Sequence'].float().to(device)\n",
    "        seqs_aug1 = augmentations1(seqs)\n",
    "        seqs_aug2 = augmentations1(seqs)\n",
    "        optimizer.zero_grad()\n",
    "\n",
    "        # Forward pass\n",
    "        logits, labels = moco_model(seqs_aug1, seqs_aug2, training=True)\n",
    "        loss = loss_fn(logits, labels)\n",
    "\n",
    "        # Backward pass\n",
    "        loss.backward()\n",
    "        optimizer.step()\n",
    "\n",
    "        total_train_loss += loss.item()\n",
    "    train_loss.append(total_train_loss/len(trainloader_ssl))\n",
    "\n",
    "    # Validation\n",
    "    moco_model.eval()\n",
    "    total_val_loss = 0.0\n",
    "\n",
    "    with torch.no_grad(): \n",
    "        for batch in valloader_ssl:\n",
    "            seqs = batch['Sequence'].float().to(device)\n",
    "            seqs_aug1 = augmentations1(seqs)\n",
    "            seqs_aug2 = augmentations1(seqs)\n",
    "            \n",
    "            # Forward pass\n",
    "            logits, labels = moco_model(seqs_aug1, seqs_aug2, training=False)\n",
    "            loss = loss_fn(logits, labels)\n",
    "            total_val_loss += loss.item()\n",
    "\n",
    "    val_loss.append(total_val_loss/len(valloader_ssl))\n",
    "  \n",
    "    if (epoch + 1) % 100 == 0:\n",
    "        print(f\"Epoch [{epoch+1}/{n_epochs}]\")\n",
    "        print(f\"  Train Loss: {train_loss[-1]:.4f}\")\n",
    "        print(f\"  Val Loss: {val_loss[-1]:.4f}\")\n"
   ]
  },
  {
   "cell_type": "code",
   "execution_count": 11,
   "metadata": {
    "colab": {
     "base_uri": "https://localhost:8080/",
     "height": 450
    },
    "executionInfo": {
     "elapsed": 291,
     "status": "ok",
     "timestamp": 1737020394990,
     "user": {
      "displayName": "Do Thanh Dat LE",
      "userId": "16412417269827222473"
     },
     "user_tz": -60
    },
    "id": "P9bSwk1gS6aH",
    "outputId": "adaf01e9-a634-4f66-d525-7bbc6c534320"
   },
   "outputs": [
    {
     "data": {
      "image/png": "[encoded data removed]",
      "text/plain": [
       "<Figure size 640x480 with 1 Axes>"
      ]
     },
     "metadata": {},
     "output_type": "display_data"
    }
   ],
   "source": [
    "# Plot training curve\n",
    "plt.figure()\n",
    "plt.plot(train_loss, label='Training loss')\n",
    "plt.plot(val_loss, label='Validation loss')\n",
    "plt.title('Training curve for contrastive learning')\n",
    "plt.xlabel('Epoch')\n",
    "plt.ylabel('Loss')\n",
    "plt.legend()\n",
    "plt.show()"
   ]
  },
  {
   "cell_type": "code",
   "execution_count": 12,
   "metadata": {},
   "outputs": [],
   "source": [
    "# Save the query encoder for downstream task\n",
    "torch.save(moco_model.encoder_q.state_dict(), 'encoder_q256.pth')"
   ]
  },
  {
   "cell_type": "markdown",
   "metadata": {},
   "source": [
    "### Downstream Classification"
   ]
  },
  {
   "cell_type": "code",
   "execution_count": 21,
   "metadata": {},
   "outputs": [
    {
     "name": "stderr",
     "output_type": "stream",
     "text": [
      "C:\\Users\\Asus\\AppData\\Local\\Temp\\ipykernel_9336\\3634928539.py:13: FutureWarning: You are using `torch.load` with `weights_only=False` (the current default value), which uses the default pickle module implicitly. It is possible to construct malicious pickle data which will execute arbitrary code during unpickling (See https://github.com/pytorch/pytorch/blob/main/SECURITY.md#untrusted-models for more details). In a future release, the default value for `weights_only` will be flipped to `True`. This limits the functions that could be executed during unpickling. Arbitrary objects will no longer be allowed to be loaded via this mode unless they are explicitly allowlisted by the user via `torch.serialization.add_safe_globals`. We recommend you start setting `weights_only=True` for any use case where you don't have full control of the loaded file. Please open an issue on GitHub for any issues related to this experimental feature.\n",
      "  encoder_q.load_state_dict(torch.load(\"encoder_q.pth\"))\n"
     ]
    },
    {
     "data": {
      "text/plain": [
       "<All keys matched successfully>"
      ]
     },
     "execution_count": 21,
     "metadata": {},
     "output_type": "execute_result"
    }
   ],
   "source": [
    "\"\"\" # load the trained query encoder\n",
    "graph_args = {\n",
    "    'strategy': 'spatial',\n",
    "    'max_hop': 1,\n",
    "    'dilation': 1\n",
    "}\n",
    "encoder_q = STGCN_model(in_channels=3, \n",
    "                           hidden_channels=16, \n",
    "                           hidden_dim=64, out_dim=128, \n",
    "                           graph_args=graph_args, \n",
    "                           edge_importance_weighting=True,\n",
    "                           dropout_rate=0).to(device)\n",
    "encoder_q.load_state_dict(torch.load(\"encoder_q256.pth\")) \"\"\""
   ]
  },
  {
   "cell_type": "code",
   "execution_count": 13,
   "metadata": {},
   "outputs": [
    {
     "data": {
      "text/plain": [
       "230"
      ]
     },
     "execution_count": 13,
     "metadata": {},
     "output_type": "execute_result"
    }
   ],
   "source": [
    "# Take out a proportion of data for downstream classification \n",
    "classify_ratio = 0.5  # the proportion of the training set to use for downstream classification\n",
    "indices = list(range(len(train_set)))\n",
    "train_labels = [data['Label'] for data in train_set] \n",
    "classify_indices, _ = train_test_split(\n",
    "    indices, \n",
    "    test_size=1 - classify_ratio,  \n",
    "    stratify=train_labels,          \n",
    "    random_state=seed               \n",
    ")\n",
    "\n",
    "classify_set = Subset(train_set, classify_indices)\n",
    "len(classify_set)"
   ]
  },
  {
   "cell_type": "code",
   "execution_count": 14,
   "metadata": {},
   "outputs": [],
   "source": [
    "# classifier\n",
    "trainloader_classify = DataLoader(classify_set, batch_size=64, shuffle=True)\n",
    "valloader_classify = DataLoader(val_set, batch_size=64, shuffle=True)"
   ]
  },
  {
   "cell_type": "code",
   "execution_count": 18,
   "metadata": {},
   "outputs": [],
   "source": [
    "class Classifier(nn.Module):\n",
    "    def __init__(self, hidden_dim, num_classes = 16):\n",
    "        super().__init__()\n",
    "        self.hidden_dim = hidden_dim\n",
    "        self.num_classes = num_classes\n",
    "        self.classifier = nn.Linear(self.hidden_dim, self.num_classes)\n",
    "    \n",
    "    def forward(self,x):\n",
    "        logits = self.classifier(x)\n",
    "        return logits\n",
    "    \n",
    "classifier = Classifier(hidden_dim=128, num_classes=16).to(device)"
   ]
  },
  {
   "cell_type": "code",
   "execution_count": 19,
   "metadata": {},
   "outputs": [
    {
     "name": "stderr",
     "output_type": "stream",
     "text": [
      "  6%|▌         | 11/200 [00:01<00:21,  8.91it/s]"
     ]
    },
    {
     "name": "stdout",
     "output_type": "stream",
     "text": [
      "Epoch [10/200]\n",
      "  Train Loss: 1.9429, Train Accuracy: 0.6391\n",
      "  Val Loss: 2.0212, Val Accuracy: 0.5086\n"
     ]
    },
    {
     "name": "stderr",
     "output_type": "stream",
     "text": [
      " 10%|█         | 21/200 [00:02<00:19,  9.02it/s]"
     ]
    },
    {
     "name": "stdout",
     "output_type": "stream",
     "text": [
      "Epoch [20/200]\n",
      "  Train Loss: 1.4263, Train Accuracy: 0.7957\n",
      "  Val Loss: 1.6131, Val Accuracy: 0.6552\n"
     ]
    },
    {
     "name": "stderr",
     "output_type": "stream",
     "text": [
      " 16%|█▌        | 31/200 [00:03<00:18,  9.38it/s]"
     ]
    },
    {
     "name": "stdout",
     "output_type": "stream",
     "text": [
      "Epoch [30/200]\n",
      "  Train Loss: 1.1325, Train Accuracy: 0.8348\n",
      "  Val Loss: 1.3755, Val Accuracy: 0.6810\n"
     ]
    },
    {
     "name": "stderr",
     "output_type": "stream",
     "text": [
      " 20%|██        | 41/200 [00:04<00:16,  9.56it/s]"
     ]
    },
    {
     "name": "stdout",
     "output_type": "stream",
     "text": [
      "Epoch [40/200]\n",
      "  Train Loss: 0.9666, Train Accuracy: 0.8391\n",
      "  Val Loss: 1.2300, Val Accuracy: 0.6810\n"
     ]
    },
    {
     "name": "stderr",
     "output_type": "stream",
     "text": [
      " 26%|██▌       | 51/200 [00:05<00:15,  9.52it/s]"
     ]
    },
    {
     "name": "stdout",
     "output_type": "stream",
     "text": [
      "Epoch [50/200]\n",
      "  Train Loss: 0.8269, Train Accuracy: 0.8391\n",
      "  Val Loss: 1.1350, Val Accuracy: 0.6897\n"
     ]
    },
    {
     "name": "stderr",
     "output_type": "stream",
     "text": [
      " 30%|███       | 61/200 [00:06<00:14,  9.50it/s]"
     ]
    },
    {
     "name": "stdout",
     "output_type": "stream",
     "text": [
      "Epoch [60/200]\n",
      "  Train Loss: 0.7497, Train Accuracy: 0.8435\n",
      "  Val Loss: 1.0826, Val Accuracy: 0.6897\n"
     ]
    },
    {
     "name": "stderr",
     "output_type": "stream",
     "text": [
      " 36%|███▌      | 71/200 [00:07<00:13,  9.62it/s]"
     ]
    },
    {
     "name": "stdout",
     "output_type": "stream",
     "text": [
      "Epoch [70/200]\n",
      "  Train Loss: 0.6707, Train Accuracy: 0.8522\n",
      "  Val Loss: 1.0186, Val Accuracy: 0.6983\n"
     ]
    },
    {
     "name": "stderr",
     "output_type": "stream",
     "text": [
      " 40%|████      | 81/200 [00:08<00:12,  9.54it/s]"
     ]
    },
    {
     "name": "stdout",
     "output_type": "stream",
     "text": [
      "Epoch [80/200]\n",
      "  Train Loss: 0.6236, Train Accuracy: 0.8652\n",
      "  Val Loss: 1.0003, Val Accuracy: 0.6983\n"
     ]
    },
    {
     "name": "stderr",
     "output_type": "stream",
     "text": [
      " 46%|████▌     | 91/200 [00:09<00:11,  9.65it/s]"
     ]
    },
    {
     "name": "stdout",
     "output_type": "stream",
     "text": [
      "Epoch [90/200]\n",
      "  Train Loss: 0.5797, Train Accuracy: 0.8783\n",
      "  Val Loss: 0.9682, Val Accuracy: 0.6983\n"
     ]
    },
    {
     "name": "stderr",
     "output_type": "stream",
     "text": [
      " 50%|█████     | 101/200 [00:10<00:10,  9.60it/s]"
     ]
    },
    {
     "name": "stdout",
     "output_type": "stream",
     "text": [
      "Epoch [100/200]\n",
      "  Train Loss: 0.5559, Train Accuracy: 0.8739\n",
      "  Val Loss: 0.9539, Val Accuracy: 0.6897\n"
     ]
    },
    {
     "name": "stderr",
     "output_type": "stream",
     "text": [
      " 56%|█████▌    | 111/200 [00:12<00:09,  9.40it/s]"
     ]
    },
    {
     "name": "stdout",
     "output_type": "stream",
     "text": [
      "Epoch [110/200]\n",
      "  Train Loss: 0.5087, Train Accuracy: 0.8696\n",
      "  Val Loss: 0.9294, Val Accuracy: 0.6810\n"
     ]
    },
    {
     "name": "stderr",
     "output_type": "stream",
     "text": [
      " 60%|██████    | 121/200 [00:13<00:08,  9.40it/s]"
     ]
    },
    {
     "name": "stdout",
     "output_type": "stream",
     "text": [
      "Epoch [120/200]\n",
      "  Train Loss: 0.4893, Train Accuracy: 0.8826\n",
      "  Val Loss: 0.9122, Val Accuracy: 0.6810\n"
     ]
    },
    {
     "name": "stderr",
     "output_type": "stream",
     "text": [
      " 66%|██████▌   | 131/200 [00:14<00:07,  9.37it/s]"
     ]
    },
    {
     "name": "stdout",
     "output_type": "stream",
     "text": [
      "Epoch [130/200]\n",
      "  Train Loss: 0.4726, Train Accuracy: 0.8826\n",
      "  Val Loss: 0.9230, Val Accuracy: 0.6810\n"
     ]
    },
    {
     "name": "stderr",
     "output_type": "stream",
     "text": [
      " 70%|███████   | 141/200 [00:15<00:06,  9.21it/s]"
     ]
    },
    {
     "name": "stdout",
     "output_type": "stream",
     "text": [
      "Epoch [140/200]\n",
      "  Train Loss: 0.4532, Train Accuracy: 0.8913\n",
      "  Val Loss: 0.8974, Val Accuracy: 0.6897\n"
     ]
    },
    {
     "name": "stderr",
     "output_type": "stream",
     "text": [
      " 76%|███████▌  | 151/200 [00:16<00:05,  9.37it/s]"
     ]
    },
    {
     "name": "stdout",
     "output_type": "stream",
     "text": [
      "Epoch [150/200]\n",
      "  Train Loss: 0.4339, Train Accuracy: 0.9000\n",
      "  Val Loss: 0.9104, Val Accuracy: 0.6724\n"
     ]
    },
    {
     "name": "stderr",
     "output_type": "stream",
     "text": [
      " 80%|████████  | 161/200 [00:17<00:04,  9.46it/s]"
     ]
    },
    {
     "name": "stdout",
     "output_type": "stream",
     "text": [
      "Epoch [160/200]\n",
      "  Train Loss: 0.4242, Train Accuracy: 0.8957\n",
      "  Val Loss: 0.9124, Val Accuracy: 0.6724\n"
     ]
    },
    {
     "name": "stderr",
     "output_type": "stream",
     "text": [
      " 86%|████████▌ | 171/200 [00:18<00:03,  9.52it/s]"
     ]
    },
    {
     "name": "stdout",
     "output_type": "stream",
     "text": [
      "Epoch [170/200]\n",
      "  Train Loss: 0.3959, Train Accuracy: 0.8957\n",
      "  Val Loss: 0.9351, Val Accuracy: 0.6724\n"
     ]
    },
    {
     "name": "stderr",
     "output_type": "stream",
     "text": [
      " 90%|█████████ | 181/200 [00:19<00:01,  9.59it/s]"
     ]
    },
    {
     "name": "stdout",
     "output_type": "stream",
     "text": [
      "Epoch [180/200]\n",
      "  Train Loss: 0.3902, Train Accuracy: 0.9000\n",
      "  Val Loss: 0.8818, Val Accuracy: 0.6724\n"
     ]
    },
    {
     "name": "stderr",
     "output_type": "stream",
     "text": [
      " 96%|█████████▌| 192/200 [00:20<00:00,  9.58it/s]"
     ]
    },
    {
     "name": "stdout",
     "output_type": "stream",
     "text": [
      "Epoch [190/200]\n",
      "  Train Loss: 0.3810, Train Accuracy: 0.9087\n",
      "  Val Loss: 0.8934, Val Accuracy: 0.6724\n"
     ]
    },
    {
     "name": "stderr",
     "output_type": "stream",
     "text": [
      "100%|██████████| 200/200 [00:21<00:00,  9.30it/s]"
     ]
    },
    {
     "name": "stdout",
     "output_type": "stream",
     "text": [
      "Epoch [200/200]\n",
      "  Train Loss: 0.3643, Train Accuracy: 0.9043\n",
      "  Val Loss: 0.9048, Val Accuracy: 0.6724\n"
     ]
    },
    {
     "name": "stderr",
     "output_type": "stream",
     "text": [
      "\n"
     ]
    }
   ],
   "source": [
    "for param in moco_model.encoder_q.parameters():\n",
    "    param.requires_grad = False\n",
    "# Training downstream classifier\n",
    "loss_fn = nn.CrossEntropyLoss()\n",
    "optimizer = optim.Adam(classifier.parameters(), lr=learning_rate)\n",
    "\n",
    "train_loss, train_acc = [], []\n",
    "val_loss, val_acc = [], []\n",
    "n_epochs = 200\n",
    "for epoch in tqdm(range(n_epochs)):\n",
    "    classifier.train()\n",
    "    moco_model.encoder_q.eval()\n",
    "\n",
    "    total_train_loss = 0.0\n",
    "    correct_train = 0\n",
    "    total_train = 0\n",
    "\n",
    "    for batch in trainloader_classify:\n",
    "        seqs = batch['Sequence'].float().to(device)\n",
    "        labels = batch['Label'].to(device)\n",
    "        \n",
    "        optimizer.zero_grad()\n",
    "\n",
    "        # Forward pass\n",
    "        with torch.no_grad():\n",
    "            feature = moco_model.encoder_q(seqs)\n",
    "        \n",
    "        output = classifier(feature)\n",
    "        loss = loss_fn(output, labels)\n",
    "\n",
    "        # Backward pass\n",
    "        loss.backward()\n",
    "        optimizer.step()\n",
    "\n",
    "        total_train_loss += loss.item()\n",
    "        _, predicted = torch.max(output, 1)\n",
    "        total_train += labels.size(0)\n",
    "        correct_train += (predicted == labels).sum().item()\n",
    "\n",
    "    train_loss.append(total_train_loss / len(trainloader_classify))\n",
    "    train_acc.append(correct_train / total_train)\n",
    "\n",
    "    # Validation\n",
    "    classifier.eval()\n",
    "    total_val_loss = 0.0\n",
    "    correct_val = 0\n",
    "    total_val = 0\n",
    "\n",
    "    with torch.no_grad(): \n",
    "        for batch in valloader_classify:\n",
    "            seqs = batch['Sequence'].float().to(device)\n",
    "            labels = batch['Label'].to(device)\n",
    "\n",
    "            # Forward pass\n",
    "            feature = moco_model.encoder_q(seqs)\n",
    "            output = classifier(feature)\n",
    "            loss = loss_fn(output, labels)\n",
    "\n",
    "            total_val_loss += loss.item()\n",
    "            _, predicted = torch.max(output, 1)\n",
    "            total_val += labels.size(0)\n",
    "            correct_val += (predicted == labels).sum().item()\n",
    "\n",
    "    val_loss.append(total_val_loss / len(valloader_classify))\n",
    "    val_acc.append(correct_val / total_val)\n",
    "  \n",
    "    if (epoch + 1) % 10 == 0:\n",
    "        print(f\"Epoch [{epoch+1}/{n_epochs}]\")\n",
    "        print(f\"  Train Loss: {train_loss[-1]:.4f}, Train Accuracy: {train_acc[-1]:.4f}\")\n",
    "        print(f\"  Val Loss: {val_loss[-1]:.4f}, Val Accuracy: {val_acc[-1]:.4f}\")\n"
   ]
  },
  {
   "cell_type": "code",
   "execution_count": null,
   "metadata": {},
   "outputs": [
    {
     "data": {
      "image/png": "[encoded data removed]",
      "text/plain": [
       "<Figure size 1200x500 with 2 Axes>"
      ]
     },
     "metadata": {},
     "output_type": "display_data"
    }
   ],
   "source": [
    "fig, axes = plt.subplots(1, 2, figsize=(12, 5)) \n",
    "\n",
    "# Plot loss\n",
    "axes[0].plot(train_loss, label='Training loss')\n",
    "axes[0].plot(val_loss, label='Validation loss')\n",
    "axes[0].set_title('Training Curve - Loss')\n",
    "axes[0].set_xlabel('Epoch')\n",
    "axes[0].set_ylabel('Loss')\n",
    "axes[0].legend()\n",
    "\n",
    "# Plot accuracy\n",
    "axes[1].plot(train_acc, label='Training accuracy')\n",
    "axes[1].plot(val_acc, label='Validation accuracy')\n",
    "axes[1].set_title('Training Curve - Accuracy')\n",
    "axes[1].set_xlabel('Epoch')\n",
    "axes[1].set_ylabel('Accuracy')\n",
    "axes[1].legend()\n",
    "plt.tight_layout()\n",
    "plt.show()"
   ]
  }
 ],
 "metadata": {
  "accelerator": "GPU",
  "colab": {
   "gpuType": "T4",
   "provenance": []
  },
  "kernelspec": {
   "display_name": "Python 3",
   "name": "python3"
  },
  "language_info": {
   "codemirror_mode": {
    "name": "ipython",
    "version": 3
   },
   "file_extension": ".py",
   "mimetype": "text/x-python",
   "name": "python",
   "nbconvert_exporter": "python",
   "pygments_lexer": "ipython3",
   "version": "3.10.6"
  }
 },
 "nbformat": 4,
 "nbformat_minor": 0
}
